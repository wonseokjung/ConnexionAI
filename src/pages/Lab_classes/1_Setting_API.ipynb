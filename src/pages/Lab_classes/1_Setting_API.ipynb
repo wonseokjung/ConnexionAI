{
  "nbformat": 4,
  "nbformat_minor": 0,
  "metadata": {
    "colab": {
      "provenance": []
    },
    "kernelspec": {
      "name": "python3",
      "display_name": "Python 3"
    },
    "language_info": {
      "name": "python"
    }
  },
  "cells": [
    {
      "cell_type": "code",
      "execution_count": 6,
      "metadata": {
        "colab": {
          "base_uri": "https://localhost:8080/"
        },
        "id": "QnOYWbEMzbGR",
        "outputId": "3786ea26-6789-4f1c-a0c9-97d3bbdeae8d"
      },
      "outputs": [
        {
          "output_type": "stream",
          "name": "stdout",
          "text": [
            "Requirement already satisfied: openai in /usr/local/lib/python3.11/dist-packages (1.66.3)\n",
            "Requirement already satisfied: anyio<5,>=3.5.0 in /usr/local/lib/python3.11/dist-packages (from openai) (3.7.1)\n",
            "Requirement already satisfied: distro<2,>=1.7.0 in /usr/local/lib/python3.11/dist-packages (from openai) (1.9.0)\n",
            "Requirement already satisfied: httpx<1,>=0.23.0 in /usr/local/lib/python3.11/dist-packages (from openai) (0.28.1)\n",
            "Requirement already satisfied: jiter<1,>=0.4.0 in /usr/local/lib/python3.11/dist-packages (from openai) (0.9.0)\n",
            "Requirement already satisfied: pydantic<3,>=1.9.0 in /usr/local/lib/python3.11/dist-packages (from openai) (2.10.6)\n",
            "Requirement already satisfied: sniffio in /usr/local/lib/python3.11/dist-packages (from openai) (1.3.1)\n",
            "Requirement already satisfied: tqdm>4 in /usr/local/lib/python3.11/dist-packages (from openai) (4.67.1)\n",
            "Requirement already satisfied: typing-extensions<5,>=4.11 in /usr/local/lib/python3.11/dist-packages (from openai) (4.12.2)\n",
            "Requirement already satisfied: idna>=2.8 in /usr/local/lib/python3.11/dist-packages (from anyio<5,>=3.5.0->openai) (3.10)\n",
            "Requirement already satisfied: certifi in /usr/local/lib/python3.11/dist-packages (from httpx<1,>=0.23.0->openai) (2025.1.31)\n",
            "Requirement already satisfied: httpcore==1.* in /usr/local/lib/python3.11/dist-packages (from httpx<1,>=0.23.0->openai) (1.0.7)\n",
            "Requirement already satisfied: h11<0.15,>=0.13 in /usr/local/lib/python3.11/dist-packages (from httpcore==1.*->httpx<1,>=0.23.0->openai) (0.14.0)\n",
            "Requirement already satisfied: annotated-types>=0.6.0 in /usr/local/lib/python3.11/dist-packages (from pydantic<3,>=1.9.0->openai) (0.7.0)\n",
            "Requirement already satisfied: pydantic-core==2.27.2 in /usr/local/lib/python3.11/dist-packages (from pydantic<3,>=1.9.0->openai) (2.27.2)\n"
          ]
        }
      ],
      "source": [
        "!pip install --upgrade openai\n",
        "#리로드해야함\n",
        "\n",
        "\n",
        "from openai import OpenAI\n",
        "\n",
        "# 클라이언트 생성 시 api_key 매개변수로 API 키 전달\n",
        "\n",
        "\n"
      ]
    },
    {
      "cell_type": "markdown",
      "source": [
        "lient = OpenAI(api_key=\"\") 여기에 API 키를 넣으세요"
      ],
      "metadata": {
        "id": "4BQ8E4WMw6a3"
      }
    },
    {
      "cell_type": "code",
      "source": [
        "\n",
        "from openai import OpenAI\n",
        "\n",
        "client = OpenAI(api_key=\"\")\n",
        "\n",
        "\n",
        "\n",
        "response = client.responses.create(\n",
        "    model=\"gpt-4o\",\n",
        "    tools=[{\"type\": \"web_search_preview\"}],\n",
        "    input=\"지금 인공지능 관련 유튜브 컨텐츠 올리기 좋은게 뭐야? \"\n",
        ")\n",
        "\n",
        "print(response.output_text)"
      ],
      "metadata": {
        "colab": {
          "base_uri": "https://localhost:8080/"
        },
        "id": "ZVxPoog61Ggu",
        "outputId": "928a9e04-7e7c-492d-c3da-d099ce744745"
      },
      "execution_count": 7,
      "outputs": [
        {
          "output_type": "stream",
          "name": "stdout",
          "text": [
            "인공지능 관련 유튜브 콘텐츠로 인기 있는 주제는 다양하게 있지만, 현재 몇 가지 유행하는 트렌드를 고려해볼 수 있어요:\n",
            "\n",
            "1. **AI 아트**: 생성적 적대 신경망(GAN)을 이용한 예술 작품 만들기와 관련된 콘텐츠.\n",
            "\n",
            "2. **ChatGPT 사용법**: ChatGPT를 이용한 창의적인 프로젝트나 활용법 소개.\n",
            "\n",
            "3. **AI 툴 리뷰**: 새로운 AI 기반 도구나 애플리케이션의 리뷰와 사용법.\n",
            "\n",
            "4. **머신러닝 튜토리얼**: 기초부터 고급까지 단계별 머신러닝 기술을 가르치는 강의.\n",
            "\n",
            "5. **AI 윤리**: 인공지능 개발과 활용에서 발생하는 윤리적 문제와 해결 방안 논의.\n",
            "\n",
            "6. **AI와 게임**: AI가 게임을 플레이하거나 AI를 활용한 게임 개발 관련 콘텐츠.\n",
            "\n",
            "7. **AI 뉴스 요약**: 최신 인공지능 관련 뉴스와 연구 업데이트.\n",
            "\n",
            "현재의 트렌드를 보다 정확히 파악하려면 유튜브 상위 검색 결과나 AI 관련 주요 채널을 분석해보는 것도 도움이 될 수 있습니다.\n"
          ]
        }
      ]
    },
    {
      "cell_type": "code",
      "source": [
        "response = client.responses.create(\n",
        "    model=\"gpt-4o\",\n",
        "    tools=[{\"type\": \"web_search_preview\"}],\n",
        "    input=\"What are the trending Instagram hashtags for fashion promotion in 2025?\"\n",
        ")\n",
        "\n",
        "print(\"Trending Instagram Hashtags:\")\n",
        "print(response.output_text)"
      ],
      "metadata": {
        "id": "goY_9EM9HnzH"
      },
      "execution_count": null,
      "outputs": []
    },
    {
      "cell_type": "code",
      "source": [
        "from openai import OpenAI\n",
        "import time, base64\n",
        "\n",
        "\n",
        "# 첫 요청: 초기 상태와 함께 컴퓨터 사용 도구 활성화\n",
        "response = client.responses.create(\n",
        "    model=\"computer-use-preview\",\n",
        "    tools=[{\n",
        "        \"type\": \"computer_use_preview\",\n",
        "        \"display_width\": 1024,\n",
        "        \"display_height\": 768,\n",
        "        \"environment\": \"browser\"\n",
        "    }],\n",
        "    input=[\n",
        "        {\n",
        "            \"role\": \"user\",\n",
        "            \"content\": \"Check the latest OpenAI news on bing.com.\"\n",
        "        }\n",
        "    ],\n",
        "    truncation=\"auto\"\n",
        ")\n",
        "\n",
        "# 이후 루프를 돌며 모델의 'computer_call' 제안을 실행하고,\n",
        "# 결과 스크린샷을 다시 전달하는 식으로 진행하게 됩니다.\n",
        "# (자세한 구현은 환경과 사용 도구에 따라 달라집니다.)\n",
        "\n",
        "print(response.output)\n"
      ],
      "metadata": {
        "colab": {
          "base_uri": "https://localhost:8080/"
        },
        "id": "phiAgg9LIc9F",
        "outputId": "69ddedc5-b6ab-4d4e-eedc-0c2a62cf7403"
      },
      "execution_count": 8,
      "outputs": [
        {
          "output_type": "stream",
          "name": "stdout",
          "text": [
            "[ResponseComputerToolCall(id='cu_67d7c11709e48192ac858c0450038d41036520abbccceb6e', action=ActionScreenshot(type='screenshot'), call_id='call_SKTK0YHfghZBBbmV5eoZfxXj', pending_safety_checks=[], status='completed', type='computer_call')]\n"
          ]
        }
      ]
    }
  ]
}